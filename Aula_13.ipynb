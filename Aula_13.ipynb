{
 "cells": [
  {
   "cell_type": "markdown",
   "metadata": {},
   "source": [
    "# **Aula 13 - Import**\n",
    "---"
   ]
  },
  {
   "cell_type": "markdown",
   "metadata": {},
   "source": [
    "Nem todos os comandos do Python estão disponíveis de cara. Para alguns deles é necessário fazer **importações**. Há 3 tipos de importações que podem ser feitas:\n",
    "\n",
    "- Importar bibliotecas internas do Python.\n",
    "- Importar outros arquivos nossos, que possuam funções que criamos.\n",
    "- Importar pacotes externos para serem instalados na nossa máquina.\n",
    "\n",
    "Vamos começar importando bibliotecas já incluídas no próprio Python."
   ]
  },
  {
   "cell_type": "markdown",
   "metadata": {},
   "source": [
    "## Importando biblioteca interna\n",
    "---"
   ]
  },
  {
   "cell_type": "markdown",
   "metadata": {},
   "source": [
    "Há uma lista interminável de bibliotecas já incluídas no próprio Python. Não dá para ensinar todas. O que é necessário saber sobre elas é que basta utilizar o comando `import nome_da_biblioteca` no início do código-fonte para que vários comandos já estejam disponíveis para utilização no seu algoritmo. Para o exemplo abaixo, vamos usar uma biblioteca chamada `time`. Vamos criar um simples programa que exiba algumas mensagens na tela. A diferença é que criaremos um atraso de alguns segundos para a execução de cada comando, o que pode ser muito útil para algumas situações. Para isso, iremos chamar a função `sleep()` usando a biblioteca `time`. No final, o comando ficará `time.sleep(n)`, onde `n` é o número de segundos que iremos atrasar o loop:"
   ]
  },
  {
   "cell_type": "code",
   "execution_count": 1,
   "metadata": {},
   "outputs": [
    {
     "name": "stdout",
     "output_type": "stream",
     "text": [
      "Programa está sendo executado.\n",
      "Programa executando...\n",
      "Programa ainda executando...\n",
      "Programa foi executado com sucesso.\n"
     ]
    }
   ],
   "source": [
    "# importando biblioteca\n",
    "import time\n",
    "\n",
    "saidas = ['está sendo executado.', 'executando...', 'ainda executando...', 'foi executado com sucesso.']\n",
    "\n",
    "for saida in saidas:\n",
    "    print(f'Programa {saida}')\n",
    "    time.sleep(3) # comando que atrasa o loop em 3 segundos"
   ]
  },
  {
   "cell_type": "markdown",
   "metadata": {},
   "source": [
    "## Importando parte da biblioteca\n",
    "---"
   ]
  },
  {
   "cell_type": "markdown",
   "metadata": {},
   "source": [
    "Algumas dessas bibliotecas são tão grandes que não compensa importá-las totalmente, já que pesaria muito no programa apenas para podermos utilizar uma função. Nesse caso, seria mais prudente importar apenas \"parte\" da biblioteca, usando o comando `from nome_da_biblioteca import nome_do_recurso`. Veja no exemplo abaixo, onde criamos um programa que exibe a data atual, não importa o dia em que ele é executado. Usaremos o comando `today()` incluso em `date` da biblioteca `datetime` para isso:"
   ]
  },
  {
   "cell_type": "code",
   "execution_count": 3,
   "metadata": {},
   "outputs": [
    {
     "name": "stdout",
     "output_type": "stream",
     "text": [
      "2024-05-01\n"
     ]
    }
   ],
   "source": [
    "# importando apenas um recurso da biblioteca\n",
    "from datetime import date\n",
    "\n",
    "dia = date.today()\n",
    "print(dia)"
   ]
  },
  {
   "cell_type": "markdown",
   "metadata": {},
   "source": [
    "Vamos repetir o programa, mas desta vez executando cada elemento da data de forma separada e organizada:"
   ]
  },
  {
   "cell_type": "code",
   "execution_count": 4,
   "metadata": {},
   "outputs": [
    {
     "name": "stdout",
     "output_type": "stream",
     "text": [
      "Dia de hoje: 1.\n",
      "Mês atual: 5.\n",
      "Ano atual: 2024.\n"
     ]
    }
   ],
   "source": [
    "from datetime import date\n",
    "\n",
    "dia = date.today().day\n",
    "mes = date.today().month\n",
    "ano = date.today().year\n",
    "\n",
    "print(f'Dia de hoje: {dia}.')\n",
    "print(f'Mês atual: {mes}.')\n",
    "print(f'Ano atual: {ano}.')"
   ]
  },
  {
   "cell_type": "markdown",
   "metadata": {},
   "source": [
    "Vamos recriar o programa mais uma vez, mas desta vez iremos exibir a data por extenso em português:"
   ]
  },
  {
   "cell_type": "code",
   "execution_count": 5,
   "metadata": {},
   "outputs": [
    {
     "name": "stdout",
     "output_type": "stream",
     "text": [
      "Dia de hoje: 1 de Maio de 2024.\n"
     ]
    }
   ],
   "source": [
    "from datetime import date\n",
    "\n",
    "meses = ['Janeiro', 'Fevereiro', 'Março', 'Abril', 'Maio', 'Junho', 'Julho', 'Agosto', 'Setembro', 'Outubro', 'Novembro', 'Dezembro']\n",
    "\n",
    "dia = date.today().day\n",
    "mes = date.today().month\n",
    "ano = date.today().year\n",
    "\n",
    "print(f'Dia de hoje: {dia} de {meses[mes - 1]} de {ano}.')"
   ]
  },
  {
   "cell_type": "markdown",
   "metadata": {},
   "source": [
    "### Fazendo mais de uma importação\n",
    "\n",
    "E que tal exibirmos todos os dias do mês atual? Podemos fazer isso usando a biblioteca `calendar` em conjunto com a biblioteca `datetime`:"
   ]
  },
  {
   "cell_type": "code",
   "execution_count": 7,
   "metadata": {},
   "outputs": [
    {
     "name": "stdout",
     "output_type": "stream",
     "text": [
      "      May 2024\n",
      "Mo Tu We Th Fr Sa Su\n",
      "       1  2  3  4  5\n",
      " 6  7  8  9 10 11 12\n",
      "13 14 15 16 17 18 19\n",
      "20 21 22 23 24 25 26\n",
      "27 28 29 30 31\n",
      "\n"
     ]
    }
   ],
   "source": [
    "# importando a biblioteca de calendário\n",
    "import calendar\n",
    "from datetime import date\n",
    "\n",
    "mes = date.today().month\n",
    "ano = date.today().year\n",
    "\n",
    "print(calendar.month(ano, mes))"
   ]
  },
  {
   "cell_type": "markdown",
   "metadata": {},
   "source": [
    "## Importação de funções de outro arquivo que você criou\n",
    "---"
   ]
  },
  {
   "cell_type": "markdown",
   "metadata": {},
   "source": [
    "Caso o código do seu programa fique muito grande, você pode separar em arquivos diferentes, e importar as funções para o arquivo principal. Para isso, é necessário uma série de procedimentos antes de fazer o `import`. Vamos seguir o passo a passo para criar um programa que puxa de outro arquivo as funções para as operações mátemáticas, como equações do 1º grau e 2º grau, apenas para exemplificar. Siga:"
   ]
  },
  {
   "cell_type": "markdown",
   "metadata": {},
   "source": [
    "1. Crie uma pasta para o seu projeto. Não se esqueça de criar um ambiente virtual Python, conforme ensinado na aula 04.\n",
    "2. Dentro dessa pasta, crie um arquivo com a extensão **.py**. Sugestão: **funcoes.py**.\n",
    "3. No arquivo **funcoes.py**, escreva o código-fonte abaixo:"
   ]
  },
  {
   "cell_type": "code",
   "execution_count": null,
   "metadata": {},
   "outputs": [],
   "source": [
    "# importa função matemática para calcular raiz quadrada\n",
    "import math\n",
    "\n",
    "# função que calcula equação do 1º grau\n",
    "def calcular_1_grau(a, b):\n",
    "    x = -b/a\n",
    "    return x\n",
    "\n",
    "# função que calcula delta\n",
    "def calcular_delta(a, b, c):\n",
    "    delta = b**2 - (4*a*c)\n",
    "    return delta\n",
    "\n",
    "# função que calcula x'\n",
    "def calcular_x_linha(a, b, c):\n",
    "    x = (-b + math.sqrt(calcular_delta(a, b, c)))/(2*a)\n",
    "    return x\n",
    "\n",
    "# função que calcula x\"\n",
    "def calcular_x_2_linha(a, b, c):\n",
    "    x = (-b - math.sqrt(calcular_delta(a, b, c)))/(2*a)\n",
    "    return x\n",
    "\n",
    "# função que calcula equação do 2º grau\n",
    "def calcular_2_grau(a, b, c):\n",
    "    delta = calcular_delta(a, b, c)\n",
    "\n",
    "    if delta > 0:\n",
    "        return f'x linha = {calcular_x_linha(a, b, c)}. x 2 linha = {calcular_x_2_linha(a, b, c)}.'\n",
    "    elif delta == 0:\n",
    "        x = -b/(2*a)\n",
    "        return x\n",
    "    else:\n",
    "        return 'A equação não possui uma solução real.'"
   ]
  },
  {
   "cell_type": "markdown",
   "metadata": {},
   "source": [
    "4. Esse arquivo irá reunir todas as funções que precisaremos. Agora, na mesma pasta, criaremos outro arquivo **.py**. Vamos chamá-lo de **main.py**.\n",
    "5. Nesse novo arquivo **main.py**, iremos importar o arquivo **funcoes.py** através do comando `import funcoes` para fazer o cálculo da equação do 1º grau. Para chamar a função, é necessário chamar o nome do arquivo antes do nome da função, dessa forma `funcoes.calcular_1_grau(a, b)`. Veja abaixo:"
   ]
  },
  {
   "cell_type": "code",
   "execution_count": 7,
   "metadata": {},
   "outputs": [
    {
     "name": "stdout",
     "output_type": "stream",
     "text": [
      "Equação do 1º grau: 0.14285714285714285\n"
     ]
    }
   ],
   "source": [
    "# importa o arquivo de funções\n",
    "import funcoes\n",
    "\n",
    "# programa principal\n",
    "a = 14\n",
    "b = -2\n",
    "\n",
    "print(f'Equação do 1º grau: {funcoes.calcular_1_grau(a, b)}')"
   ]
  },
  {
   "cell_type": "markdown",
   "metadata": {},
   "source": [
    "6. No exemplo acima, estamos importando todo o arquivo desnecesssariamente, pois estamos utilizando apenas a função que calcula a equação do 1º grau. Podemos importar apenas a função que vamos usar, trocando o `import`por `from funcoes import calcular_1_grau`:"
   ]
  },
  {
   "cell_type": "code",
   "execution_count": 16,
   "metadata": {},
   "outputs": [
    {
     "name": "stdout",
     "output_type": "stream",
     "text": [
      "Equação do 1º grau: -2.5\n"
     ]
    }
   ],
   "source": [
    "from funcoes import calcular_1_grau\n",
    "\n",
    "a = 2\n",
    "b = 5\n",
    "\n",
    "print(f'Equação do 1º grau: {calcular_1_grau(a, b)}')"
   ]
  },
  {
   "cell_type": "markdown",
   "metadata": {},
   "source": [
    "7. Porém, queremos usar também a equação do 2º grau, mas podemos importar as duas funções. Veja:"
   ]
  },
  {
   "cell_type": "code",
   "execution_count": 17,
   "metadata": {},
   "outputs": [
    {
     "name": "stdout",
     "output_type": "stream",
     "text": [
      "Equação do 1º grau: -2.5\n",
      "Equação do 2º grau: x linha = -1.0.\n",
      "x 2 linha = -1.5.\n"
     ]
    }
   ],
   "source": [
    "from funcoes import calcular_1_grau, calcular_2_grau\n",
    "\n",
    "a = 2\n",
    "b = 5\n",
    "c = 3\n",
    "\n",
    "print(f'Equação do 1º grau: {calcular_1_grau(a, b)}')\n",
    "print(f'Equação do 2º grau: {calcular_2_grau(a, b, c)}')"
   ]
  },
  {
   "cell_type": "markdown",
   "metadata": {},
   "source": [
    "## O if name main do Python\n",
    "---"
   ]
  },
  {
   "cell_type": "markdown",
   "metadata": {},
   "source": [
    "Quando temos um projeto com mais de um arquivo **.py**, é comum que o arquivo que contenha o código principal (geralmente é o arquivo chamado **main.py**) contenha uma estrutura iniciando com o seguinte comando: `if __name__ == '__main__:'`. É dentro dessa estrutura que está o algoritmo principal, que irá chamar as funções e exibir o resultado na tela. Essa estrutura existe para evitar que um outro arquivo importe essa estrutura para dentro dele. Ou seja, o `if __name__ == '__main__':` só vai ser executado quando você executar o código diretamente.\n",
    "\n",
    "Não é algo complicado, é só você pensar na própria estrutura do If no Python, quando você executa um arquivo diretamente dentro dele essa variável name vai receber o valor main, caso contrário não recebe esse valor. Então quando for fazer a comparação dentro do If, se estiver rodando o código principal essa verificação é verdadeira e ele executa o conteúdo, caso contrário a verificação é falsa e o código é ignorado. Pense assim, o código que possui essa estrutura if name main está sendo executado à partir dele mesmo? Se sim, vamos executar o conteúdo dessa estrutura.Caso contrário ele estará sendo executado a partir de outro código, portanto a estrutura if name main não será executada. Veja no exemplo abaixo. Digamos que ele é um arquivo chamado **main.py**:"
   ]
  },
  {
   "cell_type": "code",
   "execution_count": 1,
   "metadata": {},
   "outputs": [
    {
     "name": "stdout",
     "output_type": "stream",
     "text": [
      "Área do retângulo: 15\n"
     ]
    }
   ],
   "source": [
    "# função\n",
    "def calcular_retangulo(b, a):\n",
    "    retangulo = b * a\n",
    "    return retangulo\n",
    "\n",
    "# algoritmo principal\n",
    "if __name__ == \"__main__\":\n",
    "    b = int(input('Informe o valor da base do retângulo: '))\n",
    "    a = int(input('Informe o valor da altura do retângulo: '))\n",
    "\n",
    "    print(f'Área do retângulo: {calcular_retangulo(b, a)}')"
   ]
  },
  {
   "cell_type": "markdown",
   "metadata": {},
   "source": [
    "Dessa forma, se eu for importar o arquivo **main.py** para outro arquivo, ele irá importar `calcular_retangulo`, mas não conseguirá importar o que está dentro de `if __name__ == '__main__':`.\n",
    "\n",
    "**Obs:** o ideal é sempre colocar essa estrutura no seu código-fonte principal."
   ]
  },
  {
   "cell_type": "markdown",
   "metadata": {},
   "source": [
    "### Como funciona?\n",
    "\n",
    "Ao rodar qualquer arquivo em Python ele automaticamente, antes de tudo, define a variável __name__, que é uma variável reservada do Python. Então quando fazemos uma execução direta, executando o próprio arquivo, ele atribui o valor “__main__” para essa variável. Isso quer dizer que, estamos executando o arquivo de forma direta, ou seja, abrimos o arquivo e estamos executando ele. Dessa forma a variável __name__ recebe o valor __main__. No entanto, quando importamos esse arquivos e executamos através de um segundo arquivo, essa variável recebe outra informação.\n",
    "\n",
    "Então ao fazer a comparação de __name__ = “__main__” ela será falsa e, portanto, não vai executar o conteúdo dessa estrutura. Por esse motivo quando executamos o código diretamente no arquivo ele lê todo o conteúdo da estrutura e quando executamos através da importação do arquivo ele não lê o que está na estrutura. Dessa forma o valor atribuído a variável __name__ é diferente de “__main__”! Isso é interessante quando você vai fazer algum teste no seu arquivo principal, mas não quer que ele seja executado em arquivos secundários, então pode colocar alguma função que só funcione no arquivo principal.\n",
    "\n",
    "#### Fonte\n",
    "- https://www.hashtagtreinamentos.com/if-name-main-no-python?gad_source=1&gclid=CjwKCAjw88yxBhBWEiwA7cm6pYljtaawzEmxW4Q79CX7apbBq18j-DNKsNDqM-0OKQvFBbGGaEKp3hoCbBcQAvD_BwE"
   ]
  },
  {
   "cell_type": "markdown",
   "metadata": {},
   "source": [
    "## Importação de pacotes externos\n",
    "---"
   ]
  },
  {
   "cell_type": "markdown",
   "metadata": {},
   "source": [
    "Um dos procedimentos mais comuns em programação com Python é a importação de pacotes externos, ou seja, de bibliotecas  que não vem instaladas no Python por padrão, exigindo a instalação deles na máquina do desenvolvedor. Existem n bibliotecas muito famosas para Python disponíveis na Internet, muitas deles extremamente famosas e muito exigidas no mercado de trabalho, e para todo tipo de tarefa que imaginar. Entre as mais famosas, podemos citar o pandas (análise de dados), o django (desenvolvimento web), o scikit Learn (machine learn), a open cv (detecção de imagens), o pytorch (redes neurais), flet (para aplicativos web, desktop e mobile), entre outros.\n",
    "\n",
    "Nesses casos, a biblioteca precisa ser instalada no PC antes de ser usada. Mas não precisamos acessar sites, baixar instaladores ou arquivos compactados e abrir executáveis, nem descompactar nada dentro de pasta alguma: quando instalamos o Python lá no início do curso (aula 03), foi instalado junto um gerenciador de pacotes chamado **pip**. Ele permite baixarmos e instalarmos o pacote que quisermos diretamente do **CLI** (linhas de comando do terminal/prompt). Precisamos para isso apenas do comando de instalação do Python `pip install nome-da-biblioteca` no terminal/prompt na pasta do projeto.\n",
    "\n",
    "Vamos testar o `pip install` em um novo projeto. Desta vez, iremos criar um app que lista todos os programas instalados no seu computador. Para isso, precisaremos da biblioteca `winapps`:\n",
    "\n",
    "1. Abra o terminal na pasta do seu projeto.\n",
    "2. No terminal, digite `pip install winapps`, e aguarde a instalação.\n",
    "3. Crie um arquivo **.py** e digite o código-fonte abaixo:"
   ]
  },
  {
   "cell_type": "code",
   "execution_count": 18,
   "metadata": {},
   "outputs": [
    {
     "name": "stdout",
     "output_type": "stream",
     "text": [
      "Nome do programa: IRPF 2023 - Declaração de Ajuste Anual, Final de Espólio e Saída Definitiva do País .\n",
      "Versão do programa: 1.3.\n",
      "Data da instalação: None.\n",
      "Data da publicação: Receita Federal do Brasil.\n",
      "Local de desinstalação: \"C:\\Arquivos de Programas RFB\\IRPF2023\\uninstall.exe\".\n",
      "______________________________\n",
      "Nome do programa: 7-Zip 22.01 (x64).\n",
      "Versão do programa: 22.01.\n",
      "Data da instalação: None.\n",
      "Data da publicação: Igor Pavlov.\n",
      "Local de desinstalação: \"C:\\Program Files\\7-Zip\\Uninstall.exe\".\n",
      "______________________________\n",
      "Nome do programa: Anaconda3 2023.09-0 (Python 3.11.5 64-bit).\n",
      "Versão do programa: 2023.09-0.\n",
      "Data da instalação: None.\n",
      "Data da publicação: Anaconda, Inc..\n",
      "Local de desinstalação: \"C:\\ProgramData\\anaconda3\\Uninstall-Anaconda3.exe\".\n",
      "______________________________\n",
      "Nome do programa: CyberGhost 8.\n",
      "Versão do programa: 8.4.5.13632.\n",
      "Data da instalação: None.\n",
      "Data da publicação: CyberGhost S.R.L..\n",
      "Local de desinstalação: \"C:\\Program Files\\CyberGhost 8\\WebInstaller.exe\" /uninstall.\n",
      "______________________________\n",
      "Nome do programa: Git.\n",
      "Versão do programa: 2.45.0.\n",
      "Data da instalação: 2024-04-30.\n",
      "Data da publicação: The Git Development Community.\n",
      "Local de desinstalação: \"C:\\Program Files\\Git\\unins001.exe\".\n",
      "______________________________\n",
      "Nome do programa: Google Play Games Beta.\n",
      "Versão do programa: 24.4.458.1.\n",
      "Data da instalação: None.\n",
      "Data da publicação: Google LLC.\n",
      "Local de desinstalação: \"C:\\Program Files\\Google\\Play Games\\Uninstaller.exe\" /o{47B07D71-505D-4665-AFD4-4972A30C6530}.\n",
      "______________________________\n",
      "Nome do programa: MiKTeX.\n",
      "Versão do programa: 24.1.\n",
      "Data da instalação: None.\n",
      "Data da publicação: MiKTeX.org.\n",
      "Local de desinstalação: \"C:\\Program Files\\MiKTeX\\miktex/bin/x64\\miktex-console_admin.exe\" --admin --start-page cleanup.\n",
      "______________________________\n",
      "Nome do programa: Mozilla Firefox (x64 pt-BR).\n",
      "Versão do programa: 125.0.2.\n",
      "Data da instalação: None.\n",
      "Data da publicação: Mozilla.\n",
      "Local de desinstalação: \"C:\\Program Files\\Mozilla Firefox\\uninstall\\helper.exe\".\n",
      "______________________________\n",
      "Nome do programa: Mozilla Maintenance Service.\n",
      "Versão do programa: 105.0.3.\n",
      "Data da instalação: None.\n",
      "Data da publicação: Mozilla.\n",
      "Local de desinstalação: \"C:\\Program Files (x86)\\Mozilla Maintenance Service\\uninstall.exe\".\n",
      "______________________________\n",
      "Nome do programa: Microsoft 365 Apps para Grandes Empresas - pt-br.\n",
      "Versão do programa: 16.0.17425.20176.\n",
      "Data da instalação: None.\n",
      "Data da publicação: Microsoft Corporation.\n",
      "Local de desinstalação: \"C:\\Program Files\\Common Files\\Microsoft Shared\\ClickToRun\\OfficeClickToRun.exe\" scenario=install scenariosubtype=ARP sourcetype=None productstoremove=O365ProPlusRetail.16_pt-br_x-none culture=pt-br version.16=16.0.\n",
      "______________________________\n",
      "Nome do programa: Microsoft OneDrive.\n",
      "Versão do programa: 24.020.0128.0003.\n",
      "Data da instalação: None.\n",
      "Data da publicação: Microsoft Corporation.\n",
      "Local de desinstalação: \"C:\\Program Files\\Microsoft OneDrive\\24.020.0128.0003\\OneDriveSetup.exe\"  /uninstall  /allusers .\n",
      "______________________________\n",
      "Nome do programa: Retrowave.\n",
      "Versão do programa: None.\n",
      "Data da instalação: None.\n",
      "Data da publicação: RewindApp.\n",
      "Local de desinstalação: \"C:\\Program Files (x86)\\Steam\\steam.exe\" steam://uninstall/1239690.\n",
      "______________________________\n",
      "Nome do programa: Arcade Paradise.\n",
      "Versão do programa: None.\n",
      "Data da instalação: None.\n",
      "Data da publicação: Nosebleed Interactive.\n",
      "Local de desinstalação: \"C:\\Program Files (x86)\\Steam\\steam.exe\" steam://uninstall/1388870.\n",
      "______________________________\n",
      "Nome do programa: Cyberpunk 2077 Bonus Content.\n",
      "Versão do programa: None.\n",
      "Data da instalação: None.\n",
      "Data da publicação: CD PROJEKT RED.\n",
      "Local de desinstalação: \"C:\\Program Files (x86)\\Steam\\steam.exe\" steam://uninstall/1495710.\n",
      "______________________________\n",
      "Nome do programa: Gamer Girls (18+).\n",
      "Versão do programa: None.\n",
      "Data da instalação: None.\n",
      "Data da publicação: Pirates Of The Digital Sea.\n",
      "Local de desinstalação: \"C:\\Program Files (x86)\\Steam\\steam.exe\" steam://uninstall/1565220.\n",
      "______________________________\n",
      "Nome do programa: OBS Studio.\n",
      "Versão do programa: None.\n",
      "Data da instalação: None.\n",
      "Data da publicação: OBS Project.\n",
      "Local de desinstalação: \"C:\\Program Files (x86)\\Steam\\steam.exe\" steam://uninstall/1905180.\n",
      "______________________________\n",
      "Nome do programa: My dream setup.\n",
      "Versão do programa: None.\n",
      "Data da instalação: None.\n",
      "Data da publicação: Campfire Studio.\n",
      "Local de desinstalação: \"C:\\Program Files (x86)\\Steam\\steam.exe\" steam://uninstall/2200780.\n",
      "______________________________\n",
      "Nome do programa: Wallpaper Engine.\n",
      "Versão do programa: None.\n",
      "Data da instalação: None.\n",
      "Data da publicação: Wallpaper Engine Team.\n",
      "Local de desinstalação: \"C:\\Program Files (x86)\\Steam\\steam.exe\" steam://uninstall/431960.\n",
      "______________________________\n",
      "Nome do programa: NewRetroArcade: Neon.\n",
      "Versão do programa: None.\n",
      "Data da instalação: None.\n",
      "Data da publicação: Digital Cybercherries.\n",
      "Local de desinstalação: \"C:\\Program Files (x86)\\Steam\\steam.exe\" steam://uninstall/465780.\n",
      "______________________________\n",
      "Nome do programa: DeathComing.\n",
      "Versão do programa: None.\n",
      "Data da instalação: None.\n",
      "Data da publicação: NEXT Studios.\n",
      "Local de desinstalação: \"C:\\Program Files (x86)\\Steam\\steam.exe\" steam://uninstall/705120.\n",
      "______________________________\n",
      "Nome do programa: Mega Man X Legacy Collection 2.\n",
      "Versão do programa: None.\n",
      "Data da instalação: None.\n",
      "Data da publicação: CAPCOM CO., LTD.\n",
      "Local de desinstalação: \"C:\\Program Files (x86)\\Steam\\steam.exe\" steam://uninstall/743900.\n",
      "______________________________\n",
      "Nome do programa: Hogwarts Legacy.\n",
      "Versão do programa: None.\n",
      "Data da instalação: None.\n",
      "Data da publicação: Avalanche Software.\n",
      "Local de desinstalação: \"C:\\Program Files (x86)\\Steam\\steam.exe\" steam://uninstall/990080.\n",
      "______________________________\n",
      "Nome do programa: SumatraPDF.\n",
      "Versão do programa: 3.4.6.\n",
      "Data da instalação: 2022-10-09.\n",
      "Data da publicação: Krzysztof Kowalczyk.\n",
      "Local de desinstalação: \"C:\\Program Files\\SumatraPDF\\SumatraPDF.exe\" -uninstall.\n",
      "______________________________\n",
      "Nome do programa: TAP-Windows 9.21.2.\n",
      "Versão do programa: 9.21.2.\n",
      "Data da instalação: None.\n",
      "Data da publicação: None.\n",
      "Local de desinstalação: C:\\Program Files\\TAP-Windows\\Uninstall.exe.\n",
      "______________________________\n",
      "Nome do programa: TeamViewer.\n",
      "Versão do programa: 15.34.4.\n",
      "Data da instalação: None.\n",
      "Data da publicação: TeamViewer.\n",
      "Local de desinstalação: \"C:\\Program Files\\TeamViewer\\uninstall.exe\".\n",
      "______________________________\n",
      "Nome do programa: VLC media player.\n",
      "Versão do programa: 3.0.20.\n",
      "Data da instalação: None.\n",
      "Data da publicação: VideoLAN.\n",
      "Local de desinstalação: \"C:\\Program Files\\VideoLAN\\VLC\\uninstall.exe\".\n",
      "______________________________\n",
      "Nome do programa: WinRAR 6.11 (64-bit).\n",
      "Versão do programa: 6.11.0.\n",
      "Data da instalação: None.\n",
      "Data da publicação: win.rar GmbH.\n",
      "Local de desinstalação: C:\\Program Files\\WinRAR\\uninstall.exe.\n",
      "______________________________\n",
      "Nome do programa: XAMPP.\n",
      "Versão do programa: 8.2.0-0.\n",
      "Data da instalação: 2023-02-22.\n",
      "Data da publicação: Apache Friends.\n",
      "Local de desinstalação: \"C:\\xampp\\uninstall.exe\".\n",
      "______________________________\n",
      "Nome do programa: Google Chrome.\n",
      "Versão do programa: 124.0.6367.118.\n",
      "Data da instalação: 2022-10-09.\n",
      "Data da publicação: Google LLC.\n",
      "Local de desinstalação: MsiExec.exe /X{0BBFBF88-5FE7-3926-AC5A-DE28F556325C}.\n",
      "______________________________\n",
      "Nome do programa: Java(TM) SE Development Kit 17.0.6 (64-bit).\n",
      "Versão do programa: 17.0.6.0.\n",
      "Data da instalação: 2023-04-06.\n",
      "Data da publicação: Oracle Corporation.\n",
      "Local de desinstalação: MsiExec.exe /X{1D1A55AE-520B-5885-B559-6121460FE780}.\n",
      "______________________________\n",
      "Nome do programa: Microsoft Visual C++ 2010  x64 Redistributable - 10.0.40219.\n",
      "Versão do programa: 10.0.40219.\n",
      "Data da instalação: 2023-01-21.\n",
      "Data da publicação: Microsoft Corporation.\n",
      "Local de desinstalação: MsiExec.exe /X{1D8E6291-B0D5-35EC-8441-6616F567A0F7}.\n",
      "______________________________\n",
      "Nome do programa: Warsaw 2.42.0.10 64 bits.\n",
      "Versão do programa: 2.42.0.10.\n",
      "Data da instalação: 2023-05-26.\n",
      "Data da publicação: Topaz.\n",
      "Local de desinstalação: \"C:\\Program Files\\Topaz OFD\\Warsaw\\unins000.exe\".\n",
      "______________________________\n",
      "Nome do programa: NVIDIA Nsight Compute 2024.1.1.\n",
      "Versão do programa: 24.1.1.0.\n",
      "Data da instalação: 2024-04-16.\n",
      "Data da publicação: NVIDIA Corporation.\n",
      "Local de desinstalação: MsiExec.exe /X{26267B20-9638-42C2-A040-7FF5A08E5D4D}.\n",
      "______________________________\n",
      "Nome do programa: Killer Ethernet Performance Driver Suite UWD.\n",
      "Versão do programa: 2.0.1159.\n",
      "Data da instalação: 2022-10-09.\n",
      "Data da publicação: Rivet Networks.\n",
      "Local de desinstalação: MsiExec.exe /X{2BC138AD-0144-4B09-998B-77D25B26B1FA}.\n",
      "______________________________\n",
      "Nome do programa: Google Earth Pro.\n",
      "Versão do programa: 7.3.6.9796.\n",
      "Data da instalação: 2024-03-15.\n",
      "Data da publicação: Google.\n",
      "Local de desinstalação: MsiExec.exe /I{3470AD08-85F2-4B1D-8487-FC4750732087}.\n",
      "______________________________\n",
      "Nome do programa: NVIDIA Nsight Systems 2023.4.4.\n",
      "Versão do programa: 23.4.4.54.\n",
      "Data da instalação: 2024-04-16.\n",
      "Data da publicação: NVIDIA Corporation.\n",
      "Local de desinstalação: MsiExec.exe /X{3DC5F45D-5558-4881-B1C2-80A28EC23637}.\n",
      "______________________________\n",
      "Nome do programa: Intel(R) Rapid Storage Technology.\n",
      "Versão do programa: 17.2.0.1009.\n",
      "Data da instalação: None.\n",
      "Data da publicação: Intel Corporation.\n",
      "Local de desinstalação: \"C:\\Program Files (x86)\\Intel\\Package Cache\\{409CB30E-E457-4008-9B1A-ED1B9EA21140}\\Setup.exe\" -uninstall.\n",
      "______________________________\n",
      "Nome do programa: Logitech G HUB.\n",
      "Versão do programa: 2024.3.553733.\n",
      "Data da instalação: None.\n",
      "Data da publicação: Logitech.\n",
      "Local de desinstalação: \"C:\\Program Files\\LGHUB\\lghub_software_manager.exe\".\n",
      "______________________________\n",
      "Nome do programa: MySQL Workbench 8.0 CE.\n",
      "Versão do programa: 8.0.32.\n",
      "Data da instalação: 2023-04-06.\n",
      "Data da publicação: Oracle Corporation.\n",
      "Local de desinstalação: MsiExec.exe /I{5345D70A-6E66-4AF7-9A18-547E97DD538C}.\n",
      "______________________________\n",
      "Nome do programa: Microsoft Visual Studio Installer.\n",
      "Versão do programa: 3.6.2122.36397.\n",
      "Data da instalação: 2023-08-18.\n",
      "Data da publicação: Microsoft Corporation.\n",
      "Local de desinstalação: \"C:\\Program Files (x86)\\Microsoft Visual Studio\\Installer\\setup.exe\" /uninstall.\n",
      "______________________________\n",
      "Nome do programa: PredatorSense Service.\n",
      "Versão do programa: 3.00.3136.\n",
      "Data da instalação: 2022-10-09.\n",
      "Data da publicação: Acer Incorporated.\n",
      "Local de desinstalação: MsiExec.exe /i {8D399C7A-8693-4BDE-9D22-D43CBB8BBF62} BOOTSTRATOR=1 GPRODUCTNAME=\"PredatorSense Service\" BRANDNAME=\"Acer\" ISDT=0 REBOOT=ReallySuppress.\n",
      "______________________________\n",
      "Nome do programa: Quick Access Service.\n",
      "Versão do programa: 3.00.3038.\n",
      "Data da instalação: 2022-10-09.\n",
      "Data da publicação: Acer Incorporated.\n",
      "Local de desinstalação: MsiExec.exe /i {AB25551C-74EF-4BAB-9989-891517FCF9FF} BOOTSTRATOR=1 GPRODUCTNAME=\"Quick Access Service\" BRANDNAME=\"Acer\" ISDT=0.\n",
      "______________________________\n",
      "Nome do programa: Adobe Acrobat (64-bit).\n",
      "Versão do programa: 24.002.20687.\n",
      "Data da instalação: 2024-04-13.\n",
      "Data da publicação: Adobe.\n",
      "Local de desinstalação: MsiExec.exe /I{AC76BA86-1046-1033-7760-BC15014EA700}.\n",
      "______________________________\n",
      "Nome do programa: MySQL Server 8.0.\n",
      "Versão do programa: 8.0.32.\n",
      "Data da instalação: 2023-04-06.\n",
      "Data da publicação: Oracle Corporation.\n",
      "Local de desinstalação: MsiExec.exe /I{AF316C49-9FF0-401A-9EC3-3BD0AA7049FA}.\n",
      "______________________________\n",
      "Nome do programa: Care Center Service.\n",
      "Versão do programa: 4.00.3042.\n",
      "Data da instalação: 2022-10-09.\n",
      "Data da publicação: Acer Incorporated.\n",
      "Local de desinstalação: Msiexec.exe /i {AFB52E98-7597-4484-9202-58F0FD3512ED} ACER=1 PRODUCTNAME=\"Acer Care Center\" REMOVEUSEC=1 BOOTSTRATOR=1.\n",
      "______________________________\n",
      "Nome do programa: NVIDIA CUDA Toolkit 12.4.\n",
      "Versão do programa: 12.4.\n",
      "Data da instalação: 2024-04-16.\n",
      "Data da publicação: NVIDIA Corporation.\n",
      "Local de desinstalação: \"C:\\Windows\\SysWOW64\\RunDll32.EXE\" \"C:\\Program Files\\NVIDIA Corporation\\Installer2\\InstallerCore\\NVI2.DLL\",UninstallPackage CUDAToolkit_12.4.\n",
      "______________________________\n",
      "Nome do programa: NVIDIA Driver de gráficos 552.22.\n",
      "Versão do programa: 552.22.\n",
      "Data da instalação: 2024-04-16.\n",
      "Data da publicação: NVIDIA Corporation.\n",
      "Local de desinstalação: \"C:\\Windows\\SysWOW64\\RunDll32.EXE\" \"C:\\Program Files\\NVIDIA Corporation\\Installer2\\InstallerCore\\NVI2.DLL\",UninstallPackage Display.Driver.\n",
      "______________________________\n",
      "Nome do programa: NVIDIA GeForce Experience 3.27.0.120.\n",
      "Versão do programa: 3.27.0.120.\n",
      "Data da instalação: 2024-04-16.\n",
      "Data da publicação: NVIDIA Corporation.\n",
      "Local de desinstalação: \"C:\\Windows\\SysWOW64\\RunDll32.EXE\" \"C:\\Program Files\\NVIDIA Corporation\\Installer2\\InstallerCore\\NVI2.DLL\",UninstallPackage Display.GFExperience.\n",
      "______________________________\n",
      "Nome do programa: NVIDIA Software do sistema PhysX 9.21.0713.\n",
      "Versão do programa: 9.21.0713.\n",
      "Data da instalação: 2022-10-09.\n",
      "Data da publicação: NVIDIA Corporation.\n",
      "Local de desinstalação: \"C:\\Windows\\SysWOW64\\RunDll32.EXE\" \"C:\\Program Files\\NVIDIA Corporation\\Installer2\\InstallerCore\\NVI2.DLL\",UninstallPackage Display.PhysX.\n",
      "______________________________\n",
      "Nome do programa: NVIDIA FrameView SDK 1.3.8513.32290073.\n",
      "Versão do programa: 1.3.8513.32290073.\n",
      "Data da instalação: 2024-04-16.\n",
      "Data da publicação: NVIDIA Corporation.\n",
      "Local de desinstalação: \"C:\\Windows\\SysWOW64\\RunDll32.EXE\" \"C:\\Program Files\\NVIDIA Corporation\\Installer2\\InstallerCore\\NVI2.DLL\",UninstallPackage FrameViewSdk.\n",
      "______________________________\n",
      "Nome do programa: NVIDIA Driver de áudio HD 1.3.40.14.\n",
      "Versão do programa: 1.3.40.14.\n",
      "Data da instalação: 2024-04-16.\n",
      "Data da publicação: NVIDIA Corporation.\n",
      "Local de desinstalação: \"C:\\Windows\\SysWOW64\\RunDll32.EXE\" \"C:\\Program Files\\NVIDIA Corporation\\Installer2\\InstallerCore\\NVI2.DLL\",UninstallPackage HDAudio.Driver.\n",
      "______________________________\n",
      "Nome do programa: NVIDIA USBC Driver 1.50.831.832.\n",
      "Versão do programa: 1.50.831.832.\n",
      "Data da instalação: 2024-04-16.\n",
      "Data da publicação: NVIDIA Corporation.\n",
      "Local de desinstalação: \"C:\\Windows\\SysWOW64\\RunDll32.EXE\" \"C:\\Program Files\\NVIDIA Corporation\\Installer2\\InstallerCore\\NVI2.DLL\",UninstallPackage USBC.\n",
      "______________________________\n",
      "Nome do programa: NVIDIA Nsight Visual Studio Edition 2024.1.1.24072.\n",
      "Versão do programa: 24.1.1.24072.\n",
      "Data da instalação: 2024-04-16.\n",
      "Data da publicação: NVIDIA Corporation.\n",
      "Local de desinstalação: MsiExec.exe /X{BE44C1EA-E9AF-4BF9-A4E0-4C0535D5B73D}.\n",
      "______________________________\n",
      "Nome do programa: Node.js.\n",
      "Versão do programa: 18.17.1.\n",
      "Data da instalação: 2023-08-19.\n",
      "Data da publicação: Node.js Foundation.\n",
      "Local de desinstalação: MsiExec.exe /I{C574A5A2-4D77-47ED-B965-21A7969EBE42}.\n",
      "______________________________\n",
      "Nome do programa: Microsoft Update Health Tools.\n",
      "Versão do programa: 5.72.0.0.\n",
      "Data da instalação: 2023-11-02.\n",
      "Data da publicação: Microsoft Corporation.\n",
      "Local de desinstalação: MsiExec.exe /X{C6FD611E-7EFE-488C-A0E0-974C09EF6473}.\n",
      "______________________________\n",
      "Nome do programa: Intel® Optane™ Pinning Explorer Extensions.\n",
      "Versão do programa: 17.2.0.1009.\n",
      "Data da instalação: 2022-10-09.\n",
      "Data da publicação: Intel Corporation.\n",
      "Local de desinstalação: MsiExec.exe /I{F4F771E2-6E23-4F27-93E1-27C22C71B7E2}.\n",
      "______________________________\n",
      "Nome do programa: Ferramentas de Build do Visual Studio 2019.\n",
      "Versão do programa: 16.11.29.\n",
      "Data da instalação: 2023-08-18.\n",
      "Data da publicação: Microsoft Corporation.\n",
      "Local de desinstalação: \"C:\\Program Files (x86)\\Microsoft Visual Studio\\Installer\\setup.exe\" uninstall --installPath \"C:\\Program Files (x86)\\Microsoft Visual Studio\\2019\\BuildTools\".\n",
      "______________________________\n",
      "Nome do programa: Microsoft Edge.\n",
      "Versão do programa: 124.0.2478.67.\n",
      "Data da instalação: 2024-04-27.\n",
      "Data da publicação: Microsoft Corporation.\n",
      "Local de desinstalação: \"C:\\Program Files (x86)\\Microsoft\\Edge\\Application\\124.0.2478.67\\Installer\\setup.exe\" --uninstall --msedge --channel=stable --system-level --verbose-logging.\n",
      "______________________________\n",
      "Nome do programa: Microsoft Edge Update.\n",
      "Versão do programa: 1.3.185.29.\n",
      "Data da instalação: None.\n",
      "Data da publicação: None.\n",
      "Local de desinstalação: None.\n",
      "______________________________\n",
      "Nome do programa: Microsoft Edge WebView2 Runtime.\n",
      "Versão do programa: 124.0.2478.67.\n",
      "Data da instalação: 2024-04-28.\n",
      "Data da publicação: Microsoft Corporation.\n",
      "Local de desinstalação: \"C:\\Program Files (x86)\\Microsoft\\EdgeWebView\\Application\\124.0.2478.67\\Installer\\setup.exe\" --uninstall --msedgewebview --system-level --verbose-logging.\n",
      "______________________________\n",
      "Nome do programa: Norton Security Ultra.\n",
      "Versão do programa: 22.24.2.6.\n",
      "Data da instalação: 2023-09-08.\n",
      "Data da publicação: NortonLifeLock Inc.\n",
      "Local de desinstalação: \"C:\\Program Files (x86)\\NortonInstaller\\{0C55C096-0F1D-4F28-AAA2-85EF591126E7}\\NGC\\562C4DD5\\22.24.2.6\\InstStub.exe\" /X /ARP.\n",
      "______________________________\n",
      "Nome do programa: Portugol Studio.\n",
      "Versão do programa: 2.7.5.\n",
      "Data da instalação: 2023-08-05.\n",
      "Data da publicação: UNIVALI.\n",
      "Local de desinstalação: \"C:\\ProgramData\\UNIVALI\\Portugol Studio\\desinstalar.exe\".\n",
      "______________________________\n",
      "Nome do programa: PyCharm Community Edition 2023.3.3.\n",
      "Versão do programa: 233.13763.11.\n",
      "Data da instalação: None.\n",
      "Data da publicação: JetBrains s.r.o..\n",
      "Local de desinstalação: C:\\Program Files\\JetBrains\\PyCharm Community Edition 2023.3.3\\bin\\Uninstall.exe.\n",
      "______________________________\n",
      "Nome do programa: Rockstar Games Launcher.\n",
      "Versão do programa: 1.0.71.1428.\n",
      "Data da instalação: None.\n",
      "Data da publicação: Rockstar Games.\n",
      "Local de desinstalação: \"C:\\Program Files\\Rockstar Games\\Launcher\\uninstall.exe\" -enableFullMode -uninstall=launcher.\n",
      "______________________________\n",
      "Nome do programa: Rockstar Games Social Club.\n",
      "Versão do programa: 2.1.7.0.\n",
      "Data da instalação: None.\n",
      "Data da publicação: Rockstar Games.\n",
      "Local de desinstalação: C:\\Program Files\\Rockstar Games\\Social Club\\uninstallRGSCRedistributable.exe.\n",
      "______________________________\n",
      "Nome do programa: Steam.\n",
      "Versão do programa: 2.10.91.91.\n",
      "Data da instalação: None.\n",
      "Data da publicação: Valve Corporation.\n",
      "Local de desinstalação: C:\\Program Files (x86)\\Steam\\uninstall.exe.\n",
      "______________________________\n",
      "Nome do programa: Ubisoft Connect.\n",
      "Versão do programa: 139.2.10843.\n",
      "Data da instalação: None.\n",
      "Data da publicação: Ubisoft.\n",
      "Local de desinstalação: C:\\Program Files (x86)\\Ubisoft\\Ubisoft Game Launcher\\Uninstall.exe.\n",
      "______________________________\n",
      "Nome do programa: Microsoft Visual C++ 2013 Redistributable (x64) - 12.0.30501.\n",
      "Versão do programa: 12.0.30501.0.\n",
      "Data da instalação: None.\n",
      "Data da publicação: Microsoft Corporation.\n",
      "Local de desinstalação: \"C:\\ProgramData\\Package Cache\\{050d4fc8-5d48-4b8f-8972-47c82c46020f}\\vcredist_x64.exe\"  /uninstall.\n",
      "______________________________\n",
      "Nome do programa: MySQL Connector J.\n",
      "Versão do programa: 8.0.32.\n",
      "Data da instalação: 2023-04-06.\n",
      "Data da publicação: Oracle Corporation.\n",
      "Local de desinstalação: MsiExec.exe /I{16D55058-D97A-45C7-B720-5F70CCAE18EB}.\n",
      "______________________________\n",
      "Nome do programa: Microsoft .NET SDK 8.0.204 (x64).\n",
      "Versão do programa: 8.2.424.17037.\n",
      "Data da instalação: None.\n",
      "Data da publicação: Microsoft Corporation.\n",
      "Local de desinstalação: \"C:\\ProgramData\\Package Cache\\{182c79bd-e684-443b-b3f0-1dc904d1567d}\\dotnet-sdk-8.0.204-win-x64.exe\"  /uninstall.\n",
      "______________________________\n",
      "Nome do programa: Epic Online Services.\n",
      "Versão do programa: 2.0.36.0.\n",
      "Data da instalação: 2022-10-09.\n",
      "Data da publicação: Epic Games, Inc..\n",
      "Local de desinstalação: MsiExec.exe /X{19695986-25CE-41AC-9C6F-54794653EDBA}.\n",
      "______________________________\n",
      "Nome do programa: Microsoft Visual C++ 2012 Redistributable (x86) - 11.0.61030.\n",
      "Versão do programa: 11.0.61030.0.\n",
      "Data da instalação: None.\n",
      "Data da publicação: Microsoft Corporation.\n",
      "Local de desinstalação: \"C:\\ProgramData\\Package Cache\\{33d1fd90-4274-48a1-9bc1-97e33d9c2d6f}\\vcredist_x86.exe\"  /uninstall.\n",
      "______________________________\n",
      "Nome do programa: MySQL Installer - Community.\n",
      "Versão do programa: 1.6.5.0.\n",
      "Data da instalação: 2023-04-06.\n",
      "Data da publicação: Oracle Corporation.\n",
      "Local de desinstalação: MsiExec.exe /I{349F3A9A-D3E2-4DC7-AEBE-77B55064DEAE}.\n",
      "______________________________\n",
      "Nome do programa: Python Launcher.\n",
      "Versão do programa: 3.12.2150.0.\n",
      "Data da instalação: 2024-04-17.\n",
      "Data da publicação: Python Software Foundation.\n",
      "Local de desinstalação: MsiExec.exe /X{3B36061E-A25F-4E12-BFD1-68E724723D48}.\n",
      "______________________________\n",
      "Nome do programa: Microsoft Visual C++ 2015-2022 Redistributable (x86) - 14.36.32532.\n",
      "Versão do programa: 14.36.32532.0.\n",
      "Data da instalação: None.\n",
      "Data da publicação: Microsoft Corporation.\n",
      "Local de desinstalação: \"C:\\ProgramData\\Package Cache\\{410c0ee1-00bb-41b6-9772-e12c2828b02f}\\VC_redist.x86.exe\"  /uninstall.\n",
      "______________________________\n",
      "Nome do programa: Windows Software Development Kit - Windows 10.0.19041.685.\n",
      "Versão do programa: 10.1.19041.685.\n",
      "Data da instalação: None.\n",
      "Data da publicação: Microsoft Corporation.\n",
      "Local de desinstalação: \"C:\\ProgramData\\Package Cache\\{4591faf1-a2db-4a3d-bfda-aa5a4ebb1587}\\winsdksetup.exe\"  /uninstall.\n",
      "______________________________\n",
      "Nome do programa: Composer - PHP Dependency Manager.\n",
      "Versão do programa: None.\n",
      "Data da instalação: 2023-02-22.\n",
      "Data da publicação: getcomposer.org.\n",
      "Local de desinstalação: \"C:\\Program Files (x86)\\ComposerSetup\\unins000.exe\".\n",
      "______________________________\n",
      "Nome do programa: Teams Machine-Wide Installer.\n",
      "Versão do programa: 1.5.0.8070.\n",
      "Data da instalação: 2022-10-10.\n",
      "Data da publicação: Microsoft Corporation.\n",
      "Local de desinstalação: MsiExec.exe /I{731F6BAA-A986-45A4-8936-7C3AAAAA760B}.\n",
      "______________________________\n",
      "Nome do programa: Epic Games Launcher.\n",
      "Versão do programa: 1.3.51.0.\n",
      "Data da instalação: 2022-10-09.\n",
      "Data da publicação: Epic Games, Inc..\n",
      "Local de desinstalação: MsiExec.exe /X{792AE4CE-8FD8-406B-82D7-4C3374E402F3}.\n",
      "______________________________\n",
      "Nome do programa: Microsoft Visual C++ 2015-2022 Redistributable (x64) - 14.36.32532.\n",
      "Versão do programa: 14.36.32532.0.\n",
      "Data da instalação: None.\n",
      "Data da publicação: Microsoft Corporation.\n",
      "Local de desinstalação: \"C:\\ProgramData\\Package Cache\\{8bdfe669-9705-4184-9368-db9ce581e0e7}\\VC_redist.x64.exe\"  /uninstall.\n",
      "______________________________\n",
      "Nome do programa: MySQL Documents 8.0.\n",
      "Versão do programa: 8.0.32.\n",
      "Data da instalação: 2023-04-06.\n",
      "Data da publicação: Oracle Corporation.\n",
      "Local de desinstalação: MsiExec.exe /I{C04F1F6D-77C8-4169-B72F-AF8456E78ECF}.\n",
      "______________________________\n",
      "Nome do programa: Microsoft Visual C++ 2012 Redistributable (x64) - 11.0.61030.\n",
      "Versão do programa: 11.0.61030.0.\n",
      "Data da instalação: None.\n",
      "Data da publicação: Microsoft Corporation.\n",
      "Local de desinstalação: \"C:\\ProgramData\\Package Cache\\{ca67548a-5ebe-413a-b50c-4b9ceb6d66c6}\\vcredist_x64.exe\"  /uninstall.\n",
      "______________________________\n",
      "Nome do programa: Windows SDK AddOn.\n",
      "Versão do programa: 10.1.0.0.\n",
      "Data da instalação: 2023-08-18.\n",
      "Data da publicação: Microsoft Corporation.\n",
      "Local de desinstalação: MsiExec.exe /I{E18618EC-D9DB-4BCE-B382-85ADA2CBB340}.\n",
      "______________________________\n",
      "Nome do programa: Microsoft Visual C++ 2010  x86 Redistributable - 10.0.40219.\n",
      "Versão do programa: 10.0.40219.\n",
      "Data da instalação: 2023-01-21.\n",
      "Data da publicação: Microsoft Corporation.\n",
      "Local de desinstalação: MsiExec.exe /X{F0C3E5D1-1ADE-321E-8167-68EF0DE699A5}.\n",
      "______________________________\n",
      "Nome do programa: Microsoft Visual C++ 2013 Redistributable (x86) - 12.0.30501.\n",
      "Versão do programa: 12.0.30501.0.\n",
      "Data da instalação: None.\n",
      "Data da publicação: Microsoft Corporation.\n",
      "Local de desinstalação: \"C:\\ProgramData\\Package Cache\\{f65db027-aff3-4070-886a-0d87064aabb1}\\vcredist_x86.exe\"  /uninstall.\n",
      "______________________________\n"
     ]
    }
   ],
   "source": [
    "import winapps\n",
    "\n",
    "for item in winapps.list_installed():\n",
    "    print(f'Nome do programa: {item.name}.')\n",
    "    print(f'Versão do programa: {item.version}.')\n",
    "    print(f'Data da instalação: {item.install_date}.')\n",
    "    print(f'Data da publicação: {item.publisher}.')\n",
    "    print(f'Local de desinstalação: {item.uninstall_string}.')\n",
    "    print('_'*30)"
   ]
  },
  {
   "cell_type": "markdown",
   "metadata": {},
   "source": [
    "**Obs:** lembra da aula 04, onde aprendemos a configurar um **ambiente virtual Python** criando uma pasta ***.venv***? Um dos motivos para a criação desse ambiente virtual é a aula atual. O pacote externo será instalado no ambiente virtual configurado para o projeto. Sem isso, ele não conseguirá instalar o pacote, ou usará o Python global (o que foi instalado no PC) para a instalação do pacote, fazendo com que seu computador fique mais pesado que o necessário para o projeto."
   ]
  },
  {
   "cell_type": "markdown",
   "metadata": {},
   "source": [
    "## Requirements.txt\n",
    "---"
   ]
  },
  {
   "cell_type": "markdown",
   "metadata": {},
   "source": [
    "Pode haver a necessidade de mover o projeto da sua máquina atual para outra. Se isso acontecer, obviamente os pacotes instalados não moverão junto, o que o obrigará a instalar os pacotes de novo. Porém, há uma forma de salvar os pacotes instalados e movê-los junto com o seu projeto:\n",
    "\n",
    "1. Abra o terminal na pasta do projeto.\n",
    "2. No terminal, digite o seguinte comando: `pip freeze > requirements.txt`. Isso fará com que o Python salve na pasta do seu projeto um arquivo **.txt** com a lista de todos os pacotes instalados e a versão de cada pacote.\n",
    "3. Mova o seu projeto junto com esse arquivo.\n",
    "4. Quando o seu projeto já estiver na nova máquina, configure o ambiente virtual Python novamente, como se fosse um novo projeto.\n",
    "5. Abra o terminal na pasta do seu projeto na nova máquina, e digite o comando: `pip install -r requirements.txt`. Isso fará com que todos os pacotes instalados na máquina original sejam instalados na pasta do projeto na nova máquina."
   ]
  }
 ],
 "metadata": {
  "kernelspec": {
   "display_name": ".venv",
   "language": "python",
   "name": "python3"
  },
  "language_info": {
   "codemirror_mode": {
    "name": "ipython",
    "version": 3
   },
   "file_extension": ".py",
   "mimetype": "text/x-python",
   "name": "python",
   "nbconvert_exporter": "python",
   "pygments_lexer": "ipython3",
   "version": "3.12.2"
  }
 },
 "nbformat": 4,
 "nbformat_minor": 2
}
