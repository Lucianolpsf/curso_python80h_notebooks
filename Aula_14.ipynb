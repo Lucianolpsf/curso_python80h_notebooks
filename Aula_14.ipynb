{
 "cells": [
  {
   "cell_type": "markdown",
   "metadata": {},
   "source": [
    "# **Aula 14 - Automação de tarefas**\n",
    "---"
   ]
  },
  {
   "cell_type": "markdown",
   "metadata": {},
   "source": [
    "Como falado no início do curso, Python é uma das melhores linguagens criar programas com tarefas automatizadas. Tarefas automatizadas são programas que executam uma série de ações no seu computador como se fosse o próprio usuário utilizando a máquina. Entretanto, é o próprio computador sozinho trabalhando, sem a ajuda de ninguém. Legal né?! É como se o computador fizesse o que você precisa fazer no seu lugar. Na aula de hoje iremos aprender como fazer."
   ]
  },
  {
   "cell_type": "markdown",
   "metadata": {},
   "source": [
    "## Pyautogui\n",
    "---"
   ]
  },
  {
   "cell_type": "markdown",
   "metadata": {},
   "source": [
    "A biblioteca ***pyautogui*** é um pacote externo a ser instalado no Python da sua máquina que serve exatamente para criar instruções de automação de tarefas. Dito isso, siga as instruções abaixo para criarmos o nosso primeiro programa para autoação de tarefas:\n",
    "\n",
    "1. Abra o terminal do seu Sistema Operacional.\n",
    "2. No terminal, navegue até a pasta do seu projeto, e crie o ambiente virtual ***venv***.\n",
    "3. Ainda no terminal, digite o comando `pip install pyautogui`.\n",
    "4. Aguarde um bocado (um bocado mesmo, demora....)\n",
    "\n",
    "O objetivo do programa aqui é apenas fazer uma pequena demonstração de como fazer a automação, mas saiba que esse é um dos ramos mais promissores do Python, e que já possui uma gigantesca procura no mercado de trabalho. Vamos crirar um programa que simplesmente abre o navegador de internet no seu PC. Crie um arquivo na pasta do seu projeto e digite o código-fonte abaixo, e depois execute:"
   ]
  },
  {
   "cell_type": "code",
   "execution_count": 3,
   "metadata": {},
   "outputs": [],
   "source": [
    "# importa biblioteca e aplica um alias\n",
    "import pyautogui as pag\n",
    "\n",
    "pag.PAUSE = 0.5 # define o tempo de espera para cada comando do pyautogui, para que os comandos possam ser executados na hora exata\n",
    "\n",
    "pag.press('win') # abre o menu iniciar\n",
    "pag.write('edge') # digita na barra de pesquisa do menu iniciar o nome do programa \"chrome\"\n",
    "pag.press('enter') # aperta enter após a digitação do nome do programa"
   ]
  },
  {
   "cell_type": "markdown",
   "metadata": {},
   "source": [
    "Se tudo der certo, o seu computador irá, sozinho, abrir o menu iniciar, digitar na barra de pesquisa **edge** (nome do navegador da Microsoft), e abrí-lo.\n",
    "\n",
    "#### **Meus parabéns!!! Você criou sua primeira automação!**"
   ]
  }
 ],
 "metadata": {
  "kernelspec": {
   "display_name": ".venv",
   "language": "python",
   "name": "python3"
  },
  "language_info": {
   "codemirror_mode": {
    "name": "ipython",
    "version": 3
   },
   "file_extension": ".py",
   "mimetype": "text/x-python",
   "name": "python",
   "nbconvert_exporter": "python",
   "pygments_lexer": "ipython3",
   "version": "3.12.2"
  }
 },
 "nbformat": 4,
 "nbformat_minor": 2
}
