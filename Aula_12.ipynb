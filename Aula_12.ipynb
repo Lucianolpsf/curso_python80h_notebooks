{
 "cells": [
  {
   "cell_type": "markdown",
   "metadata": {},
   "source": [
    "# **Aula 12 - Funções**\n",
    "---"
   ]
  },
  {
   "cell_type": "markdown",
   "metadata": {},
   "source": [
    "Não importa a linguagem de programação que você codifica: um dos principais recursos, se não for **O PRINCIPAL** recurso utilizado em programação, e que é praticamente **OBRIGATÓRIO** que qualquer programador em qualquer nível saiba, são as **Funções**.\n",
    "\n",
    "**Funções** são pequenos blocos de programação que podem ser chamados no algoritmo principal. Isso possibilita que seu código seja dividido em partes menores. Essa técnica visa atingir 5 objetivos principais:\n",
    "\n",
    "- Facilitar a leitura do código-fonte.\n",
    "- Otimizar o programa.\n",
    "- Reutilizar o mesmo código sem necessidade de copiar e colar diversas vezes.\n",
    "- Utilizar um determinado trecho de código somente quanto neccessário.\n",
    "- Facilitar a manutenção do sistema.\n",
    "\n",
    "Essas funções podem ser escritas dentro do mesmo arquivo ou em um arquivo separado, sendo chamado através das **importações** (veremos isso em aulas futuras). Para a aula de hoje, vamos trabalhar apenas com funções dentro do mesmo arquivo do código-fonte principal.\n",
    "\n",
    "Por ser um bloco de programação, quase todo o código dentro da função precisa estar indentado, exceto a primeira linha, que contém o comando `def` seguido do nome da função. Para quem tem experiência com programação, já deve imaginar que `def` é o comando que cria uma função, ao invés do tradicional `function` de linguagens como o JavaScript e o PHP, por exemplo. A nomenclatura das funções segue um padrão similar ao das variáveis, com nomes o mais simples possível, em caixa baixa, sem utilizar palavras reservadas pelo sistema, sem espaço, nem acento e nem \"ç\", e também não pode começar com números. Caso o nome da função possua mais de uma palavra, utiliza-se a convenção **Snake Case**. Para não ocorrer confusões, uma prática interessante seguida por alguns programadores é dar o nome da função usando um verbo no infinitivo, pois uma função indica uma ação a ser executada. Exemplo: chamar, alterar, inserir, calcular, etc...\n",
    "\n",
    "Outro detalhe é que o nome das funções sempre terminam com parênteses (`()`). Esses parênteses significam **parâmetros**, mas serão explicados melhor mais para frente, ainda nesta aula. Por hora, saiba que eles precisam ser colocados independentemente de estarem vazios ou não. Uma vez que a função é criada, ela pode ser chamada a qualquer momento no algoritmo principal, quantas vezes for necessário. Tudo o que precisa é apenas chamar o nome da função. Vamos para um exemplo mais prático. Logo abaixo temos um exemplo de uma função que exibe uma mensagem de boas vindas na tela:"
   ]
  },
  {
   "cell_type": "code",
   "execution_count": 4,
   "metadata": {},
   "outputs": [
    {
     "name": "stdout",
     "output_type": "stream",
     "text": [
      "---------- BEM VINDO AO SENAI ----------\n",
      "Você está fazendo o CURSO DESENVOLVEDOR PYTHON!\n"
     ]
    }
   ],
   "source": [
    "# função que exibe uma mensagem de boas vindas\n",
    "def exibir_msg():\n",
    "    print('-'*10,'BEM VINDO AO SENAI', '-'*10)\n",
    "    print('Você está fazendo o CURSO DESENVOLVEDOR PYTHON!')\n",
    "\n",
    "# programa principal\n",
    "decisao = input('Gostaria de exibir a mensagem? \"sim\" para exibir ou \"não\" para encerrar.')\n",
    "\n",
    "match decisao:\n",
    "    case 'sim':\n",
    "        exibir_msg()\n",
    "    case 'não':\n",
    "        pass\n",
    "    case _:\n",
    "        print('Resposta inválida!')"
   ]
  }
 ],
 "metadata": {
  "kernelspec": {
   "display_name": ".venv",
   "language": "python",
   "name": "python3"
  },
  "language_info": {
   "codemirror_mode": {
    "name": "ipython",
    "version": 3
   },
   "file_extension": ".py",
   "mimetype": "text/x-python",
   "name": "python",
   "nbconvert_exporter": "python",
   "pygments_lexer": "ipython3",
   "version": "3.12.2"
  }
 },
 "nbformat": 4,
 "nbformat_minor": 2
}
