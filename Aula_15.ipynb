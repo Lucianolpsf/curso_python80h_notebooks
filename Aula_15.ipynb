{
 "cells": [
  {
   "cell_type": "markdown",
   "metadata": {},
   "source": [
    "# **Aula 15 - Mineração e análise de dados**\n",
    "---"
   ]
  },
  {
   "cell_type": "markdown",
   "metadata": {},
   "source": [
    "Como é sabido a essa altura do campeonato, os dados são atualmente o artefato mais valioso do mundo, sendo considerado o \"novo ouro\", superando valores do próprio ouro e também do petróleo. Um dos motivos principais do Python ser a linguagem número 1 do mundo atualmente é a sua facilidade em minerar dados de diversas fontes, como sites, bancos de dados e arquivos **.csv**. Esse é um tipo de tarefa muito requisitado por instituições financeiras, como bancos, por exemplo, e é um dos pré-requisitos para a criação de sistemas de IA (inteligência artificial).\n",
    "\n",
    "A partir daqui, iremos utilizar dois recursos muito utilizados para esse fim:\n",
    "\n",
    "- Jupyter Notebooks\n",
    "- Pandas"
   ]
  },
  {
   "cell_type": "markdown",
   "metadata": {},
   "source": [
    "## Notebooks - Jupyter Notebook, Jupyter Lab e Google Colab\n",
    "---"
   ]
  },
  {
   "cell_type": "markdown",
   "metadata": {},
   "source": [
    "### O que são os notebooks?\n",
    "\n",
    "Os ***notebooks*** em análise de dados não são computadores do tipo _laptop_, mas sim verdadeiros \"cadernos de anotações digitais\", onde é possível inserir textos normais, _hypertextos_ (HTML) e códigos-fonte. Por padrão os notebooks aceitam códigos de 3 linguagens de programação: Julia, R e Python. É claro que em nossas aulas, utilizaremos o Python, mas há a possibilidade de usar códigos de outras linguagens de programação nos notebooks também, como o JavaScript ou o C++, por exemplo, graças a algumas extensões. A grande vantagem de se trabalhar com os notebooks é a possibilidade não só de digitar códigos-fonte em Python, mas também de executá-los dentro dos notebooks. Sabe esse arquivo do qual você está lendo esse texto? Ele é um notebook, assim como os arquivos das aulas anteriores, e é por isso que é possível executar todos os códigos que se encontram nas aulas.\n",
    "\n",
    "A extensão de um arquivo notebook é **.ipynb**, e podem ser lidos, criados, editados e executados por 3 programas que iremos listar logo mais abaixo. É possível visualizar esse tipo de arquivo diretamente do _GitHub_, mas não é possível executar os códigos diretamente de lá. Esses arquivos conseguem executar _tags_ de linguagens de marcação, como o HTML, tornando possível modificar os notebooks como se fossem páginas da Internet (é possível inclusive inserir formulários HTML dentro dos notebooks). Também é possível converter os notebooks para HTML e PDF, mas em ambos os casos ele não irá mais executar os códigos em Python, e no caso do PDF, ele também não irá executar os códigos html caso eles tenham sido utilizados para criar formulários.\n",
    "\n",
    "### O que é Jupyter Notebook?\n",
    "\n",
    "É uma aplicação web de código aberto cuja função é criar, abrir, visualizar e editar os _notebooks_. Ele funciona praticamente como uma IDE voltada para ciência mineração e análise de dados, assim como inteligência artificial. Apesar da aplicação ser web (abre diretamente do navegador padrão da máquina do usuário), ele roda localmente, ou seja, não há a necessidade de Internet para rodar o software (mas há a neccessidade de instalação).\n",
    "\n",
    "#### Há 3 formas de usar o Jupyter Notebook:\n",
    "\n",
    "- Através do ***Anaconda Navigator***, um software gratuíto que funciona como um pacote de aplicações voltadas para ciência de dados, que instala, entre outros programas, o Python e o Jupyter Notebook. Ao executar o Jupyter Notebook, ele irá abrir no navegador padrão.\n",
    "- Através do **CLI**: escolher uma pasta onde irá rodar o Jupyter Notebook, abrir o terminal nessa pasta, e executar o comando `pip install notebook` (ele irá instalar o Jupyter especificamente em uma pasta). Para abrir o Jupyter Notebook, basta abrir novamente o terminal e executar o comando `jupyter notebook`, e o programa irá abrir no navegador padrão da máquina do usuário.\n",
    "- Através do ***Visual Studio Code***: abrir o painel de extensões do _VSCode_, procurar pela extensão **Jupyter** e instalar. Isso fará com que os notebooks rodem diretamente do VSCode, sem a necessidade de abrir o Jupyter Notebook no navegador.\n",
    "\n",
    "### O que é Jupyter Lab?\n",
    "\n",
    "Assim como o **Jupyter Notebook**, o **Jupyter Lab** também é uma ferramenta utilizada para trabalhar com os _notebooks_. Porém, ela é mais completa e refinada, que reúne em uma aplicação o melhor dos _notebooks_ e das _IDEs_ tradicionais, chegando a ser mais recomendado a utilização dele em vez do Jupyter Notebook.\n",
    "\n",
    "#### Há 2 formas de usar o Jupyter Lab:\n",
    "\n",
    "- Através do ***Anaconda Navigator***: assim como o Jupyter Notebook, o ***Jupyter Lab*** também vem dentro do pacote do Anaconda, e assim como o Jupyter Notebook, ao executá-lo, ele também irá abrir no navegador padrão da máquina do usuário.\n",
    "- Através do **CLI**: é possível instalar e usar o Jupyter Lab também através do CLI. Basta abrir o terminal do Sistema Operacional na pasta desejada, e digitar o comando `pip install jupyterlab` para instalar, e após o término da instalação, executar no terminal o comando `jupyter lab` para abrir a aplicação, que também será aberta no navegador padrão do usuário.\n",
    "\n",
    "### O que é o Google Colab?\n",
    "\n",
    "É o concorrente do Jupyter Notebook/Lab criado pela Google. Funciona de forma quase idêntica ao Jupyter Notebook, com a diferença de que ele não roda localmente, mas sim na nuvem. Se por um lado isso facilita a colaboração entre os cientistas/desenvolvedores em um mesmo arquivo, por outro exige acesso constante à Internet. É necessário uma conta Google para o uso. Como era de se esperar, não há a necessidade de instalação, bastando apenas acessar o seguinte endereço logado em sua conta do Google: https://colab.research.google.com/. É possível também instalar uma extensão no seu Google Apps para que apareça a opção de criar um notebook diretamente da sua conta do Google Drive.\n",
    "\n",
    "### Qual usar?\n",
    "\n",
    "A resposta simples é: tanto faz. Vai do gosto do freguês. Você usa o que se sentir mais à vontade para usar. O professor Alex se sente mais à vontade de usar a extensão **Jupyter** para o **VSCode**, pois assim é possível abrir localmente e diretamente no editor de código, sem necessidade de abrir o navegador para trabalhar com os notebooks, facilitando e agilizando o trabalho.\n",
    "\n",
    "### Como criar os notebooks?\n",
    "\n",
    "Os notebooks são basicamente arquivos com a extensão **.ipynb**. Portanto, basta criar um arquivo com essa extensão que ele já será reconhecido como um notebook pelo Jupyter, VSCode ou Colab."
   ]
  }
 ],
 "metadata": {
  "language_info": {
   "name": "python"
  }
 },
 "nbformat": 4,
 "nbformat_minor": 2
}
