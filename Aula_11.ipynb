{
 "cells": [
  {
   "cell_type": "markdown",
   "metadata": {},
   "source": [
    "# **Aula 11 - Coleções: Dicionário**\n",
    "---"
   ]
  },
  {
   "cell_type": "markdown",
   "metadata": {},
   "source": [
    "Para quem já tem experiência com programação, principalmente com a linguagem JavaScript, vai sentir essa aula familiar.\n",
    "\n",
    "Um **dicionário** no Python é um tipo de coleção similar às listas, a diferença é que agora, para cada valor do dicionário, há uma **chave** associada àquele valor. Pense em um dicionário na vida real, você tem a palavra e tem o significado dela. Funciona de forma parecida. Assim, você encontra um valor pelo elemento correspondente — diferentemente de encontrar por um índice como em uma lista. O dicionário é uma forma de organização similar a um de banco de dados, mais completa e abrangente para diversas situações. Um dicionário grande e bem estruturado lembra muito um dataset, com os dados em um formato matricial, de tabela. Isso facilita o controle e o mapeamento desses dados. Uma forma fácil de visualizar um dicionário é uma lista telefônica. Nesse caso, as chaves são os nomes, elementos que demarcam a individualidade; ao passo que os números são os valores, elementos identificadores.\n",
    "\n",
    "Para os programadores Front-End vai ficar mais fácil de explicar, já que no JavaScript há uma estrutura quase idêntica: o ***JavaScript Object Notation*** **(Objeto de Notação JavaScript)**, também conhecido como **JSON**. A estrutura é praticamente idêntica, funcionando quase como que um \"JSON do Python\" mesmo. Enquanto nas listas são usados os colchetes (`[]`) e nas tuplas os parênteses (`()`), nos dicionários são usados as chaves (`{}`). Veja abaixo:\n",
    "\n",
    "- `lista = ['Fulano', 'Cicrano', 'Beltrano']` é uma lista.\n",
    "- `tupla = ('Fulano', 'Cicrano', 'Beltrano')` é uma tupla.\n",
    "- `dicionario = {'nome':'Fulano', 'idade':40, 'profissao':'Programador'}` é um dicionário.\n",
    "\n",
    "Segue abaixo um exemplo de código-fonte utilizando dicionário:"
   ]
  },
  {
   "cell_type": "code",
   "execution_count": 2,
   "metadata": {},
   "outputs": [
    {
     "name": "stdout",
     "output_type": "stream",
     "text": [
      "{'nome': 'Alex Machado', 'idade': 39, 'profissao': 'programador', 'empresa': 'SENAI'}\n"
     ]
    }
   ],
   "source": [
    "# dicionário\n",
    "pessoa = {\n",
    "    'nome':'Alex Machado',\n",
    "    'idade':39,\n",
    "    'profissao':'programador',\n",
    "    'empresa':'SENAI'\n",
    "}\n",
    "\n",
    "print(pessoa)"
   ]
  },
  {
   "cell_type": "markdown",
   "metadata": {},
   "source": [
    "## Diferenciando os tipos de coleções\n",
    "---"
   ]
  },
  {
   "cell_type": "markdown",
   "metadata": {},
   "source": [
    "Assim como os tipos de variáveis, você pode exibir qual tipo de lista você está lidando através do comando `type()`:"
   ]
  },
  {
   "cell_type": "code",
   "execution_count": 14,
   "metadata": {},
   "outputs": [
    {
     "name": "stdout",
     "output_type": "stream",
     "text": [
      "<class 'list'>\n",
      "<class 'tuple'>\n",
      "<class 'dict'>\n"
     ]
    }
   ],
   "source": [
    "# coleções\n",
    "colecao1 = ['Fulano','Cicrano','Beltrano']\n",
    "colecao2 = ('Brasília','São Paulo','Rio de Janeiro')\n",
    "colecao3 = {'Nome':'Fulano de Tal', 'Profissao':'Programador', 'Genero':'Masculino'}\n",
    "\n",
    "# verificando os tipos de coleções\n",
    "print(type(colecao1))\n",
    "print(type(colecao2))\n",
    "print(type(colecao3))"
   ]
  },
  {
   "cell_type": "markdown",
   "metadata": {},
   "source": [
    "## Acessando os dados do dicionário\n",
    "---"
   ]
  },
  {
   "cell_type": "markdown",
   "metadata": {},
   "source": [
    "É claro que também posso acessar as chaves do dicionário de forma isolada, assim como nas listas, tuplas, e também no JSON (para quem veio do JS). No Python, há duas formas de se fazer isso:\n",
    "\n",
    "### Forma 1\n",
    "\n",
    "Chamando o dicionário como se fosse uma lista, mas colocando o nome da chave dentro dos colchetes ao invés do índice:"
   ]
  },
  {
   "cell_type": "code",
   "execution_count": 3,
   "metadata": {},
   "outputs": [
    {
     "name": "stdout",
     "output_type": "stream",
     "text": [
      "Alex Machado\n",
      "39\n",
      "programador\n",
      "SENAI\n"
     ]
    }
   ],
   "source": [
    "pessoa = {\n",
    "    'nome':'Alex Machado',\n",
    "    'idade':39,\n",
    "    'profissao':'programador',\n",
    "    'empresa':'SENAI'\n",
    "}\n",
    "\n",
    "# exibindo os dados do dicionário\n",
    "print(pessoa['nome'])\n",
    "print(pessoa['idade'])\n",
    "print(pessoa['profissao'])\n",
    "print(pessoa['empresa'])"
   ]
  },
  {
   "cell_type": "markdown",
   "metadata": {},
   "source": [
    "Este método é bastante simples e fácil de ser implementado. Porém, ele tem uma desvantagem: se a chave informada não existir, então o código retornará um erro, e não irá executar o código. Para evitar o erro usando essa forma de acesso, será necessário usar o `try...except`:"
   ]
  },
  {
   "cell_type": "code",
   "execution_count": 5,
   "metadata": {},
   "outputs": [
    {
     "name": "stdout",
     "output_type": "stream",
     "text": [
      "Dados inexistentes\n"
     ]
    }
   ],
   "source": [
    "pessoa = {\n",
    "    'nome':'Alex Machado',\n",
    "    'idade':39,\n",
    "    'profissao':'programador',\n",
    "    'empresa':'SENAI'\n",
    "}\n",
    "\n",
    "try:\n",
    "    print(pessoa['cidade'])\n",
    "except:\n",
    "    print('Dados inexistentes')"
   ]
  },
  {
   "cell_type": "markdown",
   "metadata": {},
   "source": [
    "### Forma 2\n",
    "\n",
    "Há, porém, uma forma de evitar isso. É possível usar a função `get()` em conjunto com o nome do dicionário para o mesmo fim. Este método tem a vantagem de que, caso a chave não exista, ele não irá retornar um erro, mas sim `none`. De qualquer forma, o código será executado normalmente:"
   ]
  },
  {
   "cell_type": "code",
   "execution_count": 6,
   "metadata": {},
   "outputs": [
    {
     "name": "stdout",
     "output_type": "stream",
     "text": [
      "Alex Machado\n",
      "39\n",
      "programador\n",
      "SENAI\n",
      "None\n"
     ]
    }
   ],
   "source": [
    "pessoa = {\n",
    "    'nome':'Alex Machado',\n",
    "    'idade':39,\n",
    "    'profissao':'programador',\n",
    "    'empresa':'SENAI'\n",
    "}\n",
    "\n",
    "print(pessoa.get('nome'))\n",
    "print(pessoa.get('idade'))\n",
    "print(pessoa.get('profissao'))\n",
    "print(pessoa.get('empresa'))\n",
    "print(pessoa.get('cidade'))"
   ]
  },
  {
   "cell_type": "markdown",
   "metadata": {},
   "source": [
    "## Adicionando uma nova chave ao dicionário\n",
    "---"
   ]
  },
  {
   "cell_type": "markdown",
   "metadata": {},
   "source": [
    "Veja que tentamos acessar uma chave que não existe no nosso dicionário. Pelo menos não ainda, porque podemos adicioná-la. O processo é bastante simples:"
   ]
  },
  {
   "cell_type": "code",
   "execution_count": 8,
   "metadata": {},
   "outputs": [
    {
     "name": "stdout",
     "output_type": "stream",
     "text": [
      "Alex Machado\n",
      "39\n",
      "programador\n",
      "SENAI\n",
      "Brasília\n"
     ]
    }
   ],
   "source": [
    "pessoa = {\n",
    "    'nome':'Alex Machado',\n",
    "    'idade':39,\n",
    "    'profissao':'programador',\n",
    "    'empresa':'SENAI'\n",
    "}\n",
    "\n",
    "# adicionando uma nova chave ao dicionário\n",
    "pessoa['cidade'] = 'Brasília'\n",
    "\n",
    "# exibindo os dados do dicionário\n",
    "print(pessoa.get('nome'))\n",
    "print(pessoa.get('idade'))\n",
    "print(pessoa.get('profissao'))\n",
    "print(pessoa.get('empresa'))\n",
    "print(pessoa.get('cidade'))"
   ]
  },
  {
   "cell_type": "markdown",
   "metadata": {},
   "source": [
    "Também podemos adicionar um novo valor através do `input()`:"
   ]
  },
  {
   "cell_type": "code",
   "execution_count": 9,
   "metadata": {},
   "outputs": [
    {
     "name": "stdout",
     "output_type": "stream",
     "text": [
      "Alex Machado\n",
      "39\n",
      "programador\n",
      "SENAI\n",
      "Taguatinga\n"
     ]
    }
   ],
   "source": [
    "pessoa = {\n",
    "    'nome':'Alex Machado',\n",
    "    'idade':39,\n",
    "    'profissao':'programador',\n",
    "    'empresa':'SENAI'\n",
    "}\n",
    "\n",
    "# adicionando uma nova chave ao dicionário\n",
    "pessoa['cidade'] = input('Informe o nome da cidade: ')\n",
    "\n",
    "# exibindo os dados do dicionário\n",
    "print(pessoa.get('nome'))\n",
    "print(pessoa.get('idade'))\n",
    "print(pessoa.get('profissao'))\n",
    "print(pessoa.get('empresa'))\n",
    "print(pessoa.get('cidade'))"
   ]
  },
  {
   "cell_type": "markdown",
   "metadata": {},
   "source": [
    "## Removendo uma chave do dicionário\n",
    "---"
   ]
  },
  {
   "cell_type": "markdown",
   "metadata": {},
   "source": [
    "Além de podermos adicionar nova chave, o contrário também acontece. Podemos remover uma chave, caso ela exista dentro do dicionário:\n",
    "\n",
    "### Forma 1"
   ]
  },
  {
   "cell_type": "code",
   "execution_count": 12,
   "metadata": {},
   "outputs": [
    {
     "name": "stdout",
     "output_type": "stream",
     "text": [
      "{'nome': 'Alex Machado', 'idade': 39, 'profissao': 'programador'}\n"
     ]
    }
   ],
   "source": [
    "pessoa = {\n",
    "    'nome':'Alex Machado',\n",
    "    'idade':39,\n",
    "    'profissao':'programador',\n",
    "    'empresa':'SENAI'\n",
    "}\n",
    "\n",
    "pessoa.pop(input('Informe a chave que deseja excluir: '), None)\n",
    "\n",
    "# exibe os novos dados na tela\n",
    "print(pessoa)"
   ]
  },
  {
   "cell_type": "markdown",
   "metadata": {},
   "source": [
    "**Obs:** o `None` serve para o programa não retornar um erro, caso o usuário informe uma chave inexistente, e para esse caso, é uma opção que substitui de forma mais satisfatória o `try...except`.\n",
    "\n",
    "### Forma 2\n",
    "\n",
    "Podemos usar também o comando `del`, que tem também a vantagem de não precisarmos fazer um tratamento de exceções caso a chave informada não exista:"
   ]
  },
  {
   "cell_type": "code",
   "execution_count": 13,
   "metadata": {},
   "outputs": [
    {
     "name": "stdout",
     "output_type": "stream",
     "text": [
      "{'nome': 'Alex Machado', 'idade': 39, 'empresa': 'SENAI'}\n"
     ]
    }
   ],
   "source": [
    "pessoa = {\n",
    "    'nome':'Alex Machado',\n",
    "    'idade':39,\n",
    "    'profissao':'programador',\n",
    "    'empresa':'SENAI'\n",
    "}\n",
    "\n",
    "del pessoa[input('Informe a chave que deseja excluir: ')]\n",
    "\n",
    "# exibe os novos dados na tela\n",
    "print(pessoa)"
   ]
  }
 ],
 "metadata": {
  "kernelspec": {
   "display_name": ".venv",
   "language": "python",
   "name": "python3"
  },
  "language_info": {
   "codemirror_mode": {
    "name": "ipython",
    "version": 3
   },
   "file_extension": ".py",
   "mimetype": "text/x-python",
   "name": "python",
   "nbconvert_exporter": "python",
   "pygments_lexer": "ipython3",
   "version": "3.12.2"
  }
 },
 "nbformat": 4,
 "nbformat_minor": 2
}
